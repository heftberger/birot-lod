{
 "cells": [
  {
   "cell_type": "markdown",
   "id": "382b32bb-8938-4a96-83ff-9902552f1d29",
   "metadata": {},
   "source": [
    "### **Birot ontology**\n",
    "*Paul Duchesne. 2020-08-17.*\n",
    "\n",
    "Notebook to assemble the turtle fragments into a single unified ontology."
   ]
  },
  {
   "cell_type": "code",
   "execution_count": 1,
   "id": "0d67b0a2-311f-414f-b68a-a62d6b2a889a",
   "metadata": {},
   "outputs": [],
   "source": [
    "import pathlib\n",
    "import rdflib"
   ]
  },
  {
   "cell_type": "code",
   "execution_count": 2,
   "id": "687019b9-a41d-42f5-ac28-386a93ee95d8",
   "metadata": {},
   "outputs": [
    {
     "name": "stdout",
     "output_type": "stream",
     "text": [
      "54 triples.\n"
     ]
    }
   ],
   "source": [
    "# ontology is composed of individual \"class\" and \"property\" turtle files, \n",
    "# which are amalgamated below into a single graph and exported.\n",
    "\n",
    "graph = rdflib.Graph()\n",
    "ontology_path = pathlib.Path.cwd().parents[0] / 'ontology'\n",
    "\n",
    "class_path = ontology_path / 'classes'\n",
    "for x in [y for y in class_path.iterdir() if y.suffix == '.ttl']:\n",
    "    graph += rdflib.Graph().parse(file=open(str(x), 'r'), format='ttl')\n",
    "        \n",
    "property_path = ontology_path / 'properties'\n",
    "for x in [y for y in property_path.iterdir() if y.suffix == '.ttl']:\n",
    "    graph += rdflib.Graph().parse(file=open(str(x), 'r'), format='ttl')\n",
    "      \n",
    "graph.serialize(destination=str(ontology_path / 'birot-ontology.ttl'), format=\"turtle\")\n",
    "print(len(graph), 'triples.')"
   ]
  }
 ],
 "metadata": {
  "kernelspec": {
   "display_name": "Python 3",
   "language": "python",
   "name": "python3"
  },
  "language_info": {
   "codemirror_mode": {
    "name": "ipython",
    "version": 3
   },
   "file_extension": ".py",
   "mimetype": "text/x-python",
   "name": "python",
   "nbconvert_exporter": "python",
   "pygments_lexer": "ipython3",
   "version": "3.9.1"
  }
 },
 "nbformat": 4,
 "nbformat_minor": 5
}
